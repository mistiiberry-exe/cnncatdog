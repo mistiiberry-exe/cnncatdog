{
 "cells": [
  {
   "cell_type": "code",
   "execution_count": 1,
   "id": "95004bb9",
   "metadata": {},
   "outputs": [],
   "source": [
    "import pandas as pd\n",
    "import numpy as np\n",
    "import matplotlib.pyplot as plt\n",
    "import tensorflow as tf\n",
    "import os\n",
    "from tensorflow.keras.preprocessing import image\n",
    "from zipfile import ZipFile "
   ]
  },
  {
   "cell_type": "code",
   "execution_count": 2,
   "id": "2523f527",
   "metadata": {},
   "outputs": [],
   "source": [
    "from tensorflow.keras.models import Sequential\n",
    "from tensorflow.keras.layers import Conv2D, MaxPooling2D, Flatten, Dense, Dropout, Activation\n",
    "from tensorflow.keras.preprocessing.image import ImageDataGenerator"
   ]
  },
  {
   "cell_type": "code",
   "execution_count": 3,
   "id": "ad0d4735",
   "metadata": {},
   "outputs": [],
   "source": [
    "test_dir=\"C:/Users/ABHISHIKTA DHAR/Desktop/MISTU/dataset/test_set\"\n",
    "train_dir=\"C:/Users/ABHISHIKTA DHAR/Desktop/MISTU/dataset/training_set\"\n",
    "\n",
    "train_dir_cats = train_dir + '/cats'\n",
    "train_dir_dogs = train_dir + '/dogs'\n",
    "test_dir_cats = test_dir + '/cats'\n",
    "test_dir_dogs = test_dir + '/dogs'"
   ]
  },
  {
   "cell_type": "code",
   "execution_count": 4,
   "id": "e7527dbb",
   "metadata": {},
   "outputs": [
    {
     "name": "stdout",
     "output_type": "stream",
     "text": [
      "number of cats training images -  4000\n",
      "number of dogs training images -  4000\n",
      "number of cats testing images -  1000\n",
      "number of dogs testing images -  1000\n"
     ]
    }
   ],
   "source": [
    "print('number of cats training images - ',len(os.listdir(train_dir_cats)))\n",
    "print('number of dogs training images - ',len(os.listdir(train_dir_dogs)))\n",
    "print('number of cats testing images - ',len(os.listdir(test_dir_cats)))\n",
    "print('number of dogs testing images - ',len(os.listdir(test_dir_dogs)))"
   ]
  },
  {
   "cell_type": "code",
   "execution_count": 5,
   "id": "6d4a1e34",
   "metadata": {},
   "outputs": [],
   "source": [
    "data_generator = ImageDataGenerator(rescale = 1.0/255.0, zoom_range = 0.2)"
   ]
  },
  {
   "cell_type": "code",
   "execution_count": 6,
   "id": "576360d0",
   "metadata": {},
   "outputs": [
    {
     "name": "stdout",
     "output_type": "stream",
     "text": [
      "Found 8000 images belonging to 2 classes.\n",
      "Found 2000 images belonging to 2 classes.\n"
     ]
    }
   ],
   "source": [
    "batch_size = 32\n",
    "training_data = data_generator.flow_from_directory(directory = train_dir,\n",
    "                                                   target_size = (64, 64),\n",
    "                                                   batch_size = batch_size,\n",
    "                                                   class_mode = 'binary')\n",
    "testing_data = data_generator.flow_from_directory(directory = test_dir,\n",
    "                                                  target_size = (64, 64),\n",
    "                                                  batch_size = batch_size,\n",
    "                                                  class_mode = 'binary')"
   ]
  },
  {
   "cell_type": "code",
   "execution_count": 7,
   "id": "920fe8aa",
   "metadata": {},
   "outputs": [],
   "source": [
    "model = Sequential()\n",
    "model.add(Conv2D(filters = 32, kernel_size = (3, 3), activation = 'relu', input_shape = training_data.image_shape))\n",
    "model.add(MaxPooling2D(pool_size = (2, 2)))\n",
    "model.add(Dropout(rate = 0.3))\n",
    "model.add(Conv2D(filters = 64, kernel_size = (3, 3), activation = 'relu'))\n",
    "model.add(MaxPooling2D(pool_size = (2, 2)))\n",
    "model.add(Dropout(rate = 0.2))\n",
    "model.add(Conv2D(filters = 128, kernel_size = (3, 3), activation = 'relu'))\n",
    "model.add(MaxPooling2D(pool_size = (2, 2)))\n",
    "model.add(Dropout(rate = 0.15))\n",
    "model.add(Flatten())\n",
    "model.add(Dense(units = 32, activation = 'relu'))\n",
    "model.add(Dropout(rate = 0.15))\n",
    "model.add(Dense(units = 64, activation = 'relu'))\n",
    "model.add(Dropout(rate = 0.1))\n",
    "model.add(Dense(units = len(set(training_data.classes)), activation = 'softmax'))\n",
    "model.compile(optimizer = 'adam', loss = 'sparse_categorical_crossentropy', metrics = ['accuracy'])"
   ]
  },
  {
   "cell_type": "code",
   "execution_count": 8,
   "id": "f11c045d",
   "metadata": {},
   "outputs": [
    {
     "name": "stdout",
     "output_type": "stream",
     "text": [
      "Model: \"sequential\"\n",
      "_________________________________________________________________\n",
      " Layer (type)                Output Shape              Param #   \n",
      "=================================================================\n",
      " conv2d (Conv2D)             (None, 62, 62, 32)        896       \n",
      "                                                                 \n",
      " max_pooling2d (MaxPooling2D  (None, 31, 31, 32)       0         \n",
      " )                                                               \n",
      "                                                                 \n",
      " dropout (Dropout)           (None, 31, 31, 32)        0         \n",
      "                                                                 \n",
      " conv2d_1 (Conv2D)           (None, 29, 29, 64)        18496     \n",
      "                                                                 \n",
      " max_pooling2d_1 (MaxPooling  (None, 14, 14, 64)       0         \n",
      " 2D)                                                             \n",
      "                                                                 \n",
      " dropout_1 (Dropout)         (None, 14, 14, 64)        0         \n",
      "                                                                 \n",
      " conv2d_2 (Conv2D)           (None, 12, 12, 128)       73856     \n",
      "                                                                 \n",
      " max_pooling2d_2 (MaxPooling  (None, 6, 6, 128)        0         \n",
      " 2D)                                                             \n",
      "                                                                 \n",
      " dropout_2 (Dropout)         (None, 6, 6, 128)         0         \n",
      "                                                                 \n",
      " flatten (Flatten)           (None, 4608)              0         \n",
      "                                                                 \n",
      " dense (Dense)               (None, 32)                147488    \n",
      "                                                                 \n",
      " dropout_3 (Dropout)         (None, 32)                0         \n",
      "                                                                 \n",
      " dense_1 (Dense)             (None, 64)                2112      \n",
      "                                                                 \n",
      " dropout_4 (Dropout)         (None, 64)                0         \n",
      "                                                                 \n",
      " dense_2 (Dense)             (None, 2)                 130       \n",
      "                                                                 \n",
      "=================================================================\n",
      "Total params: 242,978\n",
      "Trainable params: 242,978\n",
      "Non-trainable params: 0\n",
      "_________________________________________________________________\n"
     ]
    }
   ],
   "source": [
    "model.summary()"
   ]
  },
  {
   "cell_type": "code",
   "execution_count": 9,
   "id": "8db97813",
   "metadata": {
    "scrolled": false
   },
   "outputs": [
    {
     "name": "stdout",
     "output_type": "stream",
     "text": [
      "Epoch 1/50\n",
      "250/250 [==============================] - ETA: 0s - loss: 0.6940 - accuracy: 0.5089WARNING:tensorflow:Your input ran out of data; interrupting training. Make sure that your dataset or generator can generate at least `steps_per_epoch * epochs` batches (in this case, 1000 batches). You may need to use the repeat() function when building your dataset.\n",
      "250/250 [==============================] - 270s 1s/step - loss: 0.6940 - accuracy: 0.5089 - val_loss: 0.6947 - val_accuracy: 0.5000\n",
      "Epoch 2/50\n",
      "250/250 [==============================] - 188s 751ms/step - loss: 0.6834 - accuracy: 0.5489\n",
      "Epoch 3/50\n",
      "250/250 [==============================] - 175s 699ms/step - loss: 0.6570 - accuracy: 0.6085\n",
      "Epoch 4/50\n",
      "250/250 [==============================] - 178s 714ms/step - loss: 0.6361 - accuracy: 0.6345\n",
      "Epoch 5/50\n",
      "250/250 [==============================] - 168s 670ms/step - loss: 0.6112 - accuracy: 0.6626\n",
      "Epoch 6/50\n",
      "250/250 [==============================] - 174s 697ms/step - loss: 0.5852 - accuracy: 0.6902\n",
      "Epoch 7/50\n",
      "250/250 [==============================] - 188s 751ms/step - loss: 0.5654 - accuracy: 0.7017\n",
      "Epoch 8/50\n",
      "250/250 [==============================] - 190s 761ms/step - loss: 0.5420 - accuracy: 0.7193\n",
      "Epoch 9/50\n",
      "250/250 [==============================] - 198s 793ms/step - loss: 0.5328 - accuracy: 0.7316\n",
      "Epoch 10/50\n",
      "250/250 [==============================] - 180s 716ms/step - loss: 0.5155 - accuracy: 0.7494\n",
      "Epoch 11/50\n",
      "250/250 [==============================] - 196s 784ms/step - loss: 0.4924 - accuracy: 0.7625\n",
      "Epoch 12/50\n",
      "250/250 [==============================] - 194s 774ms/step - loss: 0.4800 - accuracy: 0.7673\n",
      "Epoch 13/50\n",
      "250/250 [==============================] - 181s 721ms/step - loss: 0.4725 - accuracy: 0.7736\n",
      "Epoch 14/50\n",
      "250/250 [==============================] - 181s 723ms/step - loss: 0.4624 - accuracy: 0.7785\n",
      "Epoch 15/50\n",
      "250/250 [==============================] - 186s 743ms/step - loss: 0.4485 - accuracy: 0.7857\n",
      "Epoch 16/50\n",
      "250/250 [==============================] - 212s 842ms/step - loss: 0.4453 - accuracy: 0.7880\n",
      "Epoch 17/50\n",
      "250/250 [==============================] - 197s 787ms/step - loss: 0.4225 - accuracy: 0.8054\n",
      "Epoch 18/50\n",
      "250/250 [==============================] - 196s 782ms/step - loss: 0.4125 - accuracy: 0.8067\n",
      "Epoch 19/50\n",
      "250/250 [==============================] - 235s 940ms/step - loss: 0.4133 - accuracy: 0.8095\n",
      "Epoch 20/50\n",
      "250/250 [==============================] - 197s 783ms/step - loss: 0.4001 - accuracy: 0.8155\n",
      "Epoch 21/50\n",
      "250/250 [==============================] - 204s 815ms/step - loss: 0.3858 - accuracy: 0.8196\n",
      "Epoch 22/50\n",
      "250/250 [==============================] - 190s 757ms/step - loss: 0.3847 - accuracy: 0.8199\n",
      "Epoch 23/50\n",
      "250/250 [==============================] - 186s 741ms/step - loss: 0.3802 - accuracy: 0.8276\n",
      "Epoch 24/50\n",
      "250/250 [==============================] - 186s 742ms/step - loss: 0.3605 - accuracy: 0.8366\n",
      "Epoch 25/50\n",
      "250/250 [==============================] - 200s 797ms/step - loss: 0.3660 - accuracy: 0.8376\n",
      "Epoch 26/50\n",
      "250/250 [==============================] - 190s 761ms/step - loss: 0.3604 - accuracy: 0.8361\n",
      "Epoch 27/50\n",
      "250/250 [==============================] - 170s 679ms/step - loss: 0.3517 - accuracy: 0.8376\n",
      "Epoch 28/50\n",
      "250/250 [==============================] - 161s 646ms/step - loss: 0.3526 - accuracy: 0.8405\n",
      "Epoch 29/50\n",
      "250/250 [==============================] - 165s 661ms/step - loss: 0.3322 - accuracy: 0.8489\n",
      "Epoch 30/50\n",
      "250/250 [==============================] - 161s 643ms/step - loss: 0.3400 - accuracy: 0.8493\n",
      "Epoch 31/50\n",
      "250/250 [==============================] - 161s 643ms/step - loss: 0.3250 - accuracy: 0.8577\n",
      "Epoch 32/50\n",
      "250/250 [==============================] - 161s 644ms/step - loss: 0.3201 - accuracy: 0.8584\n",
      "Epoch 33/50\n",
      "250/250 [==============================] - 174s 697ms/step - loss: 0.3197 - accuracy: 0.8579\n",
      "Epoch 34/50\n",
      "250/250 [==============================] - 206s 824ms/step - loss: 0.3079 - accuracy: 0.8644\n",
      "Epoch 35/50\n",
      "250/250 [==============================] - 186s 743ms/step - loss: 0.3198 - accuracy: 0.8570\n",
      "Epoch 36/50\n",
      "250/250 [==============================] - 174s 697ms/step - loss: 0.2931 - accuracy: 0.8712\n",
      "Epoch 37/50\n",
      "250/250 [==============================] - 155s 620ms/step - loss: 0.3023 - accuracy: 0.8646\n",
      "Epoch 38/50\n",
      "250/250 [==============================] - 158s 633ms/step - loss: 0.2839 - accuracy: 0.8788\n",
      "Epoch 39/50\n",
      "250/250 [==============================] - 161s 641ms/step - loss: 0.2863 - accuracy: 0.8700\n",
      "Epoch 40/50\n",
      "250/250 [==============================] - 188s 750ms/step - loss: 0.2863 - accuracy: 0.8729\n",
      "Epoch 41/50\n",
      "250/250 [==============================] - 195s 778ms/step - loss: 0.2801 - accuracy: 0.8784\n",
      "Epoch 42/50\n",
      "250/250 [==============================] - 219s 871ms/step - loss: 0.2678 - accuracy: 0.8838\n",
      "Epoch 43/50\n",
      "250/250 [==============================] - 201s 801ms/step - loss: 0.2707 - accuracy: 0.8850\n",
      "Epoch 44/50\n",
      "250/250 [==============================] - 174s 696ms/step - loss: 0.2702 - accuracy: 0.8789\n",
      "Epoch 45/50\n",
      "250/250 [==============================] - 192s 767ms/step - loss: 0.2740 - accuracy: 0.8841\n",
      "Epoch 46/50\n",
      "250/250 [==============================] - 177s 706ms/step - loss: 0.2704 - accuracy: 0.8829\n",
      "Epoch 47/50\n",
      "250/250 [==============================] - 186s 742ms/step - loss: 0.2673 - accuracy: 0.8835\n",
      "Epoch 48/50\n",
      "250/250 [==============================] - 218s 869ms/step - loss: 0.2553 - accuracy: 0.8896\n",
      "Epoch 49/50\n",
      "250/250 [==============================] - 182s 726ms/step - loss: 0.2566 - accuracy: 0.8849\n",
      "Epoch 50/50\n",
      "250/250 [==============================] - 197s 787ms/step - loss: 0.2600 - accuracy: 0.8914\n"
     ]
    }
   ],
   "source": [
    "fitted_model = model.fit(training_data,\n",
    "                        steps_per_epoch = 250,\n",
    "                        epochs = 50,\n",
    "                        validation_data = testing_data,\n",
    "                        validation_steps = 1000)"
   ]
  },
  {
   "cell_type": "code",
   "execution_count": 10,
   "id": "8ff0eaa3",
   "metadata": {},
   "outputs": [],
   "source": [
    "def predict_image(imagepath):\n",
    "    predict = image.load_img(imagepath, target_size = (64, 64))   \n",
    "    predict_modified = image.img_to_array(predict)\n",
    "    predict_modified = predict_modified / 255\n",
    "    predict_modified = np.expand_dims(predict_modified, axis = 0)\n",
    "    result = model.predict(predict_modified)\n",
    "    if result[0][0] >= 0.5:\n",
    "        prediction = 'cat'\n",
    "        probability = result[0][0]\n",
    "        print (\"Prediction = \" + prediction)\n",
    "    else:\n",
    "        prediction = 'dog'\n",
    "        probability = 1 - result[0][0]\n",
    "        print(\"Prediction = \" + prediction)"
   ]
  },
  {
   "cell_type": "code",
   "execution_count": 11,
   "id": "8a180356",
   "metadata": {},
   "outputs": [
    {
     "name": "stdout",
     "output_type": "stream",
     "text": [
      "Prediction = dog\n",
      "None\n"
     ]
    }
   ],
   "source": [
    "print(predict_image(test_dir + '/dogs/dog.4079.jpg'))"
   ]
  },
  {
   "cell_type": "code",
   "execution_count": null,
   "id": "b7055d40",
   "metadata": {},
   "outputs": [],
   "source": []
  }
 ],
 "metadata": {
  "kernelspec": {
   "display_name": "Python 3 (ipykernel)",
   "language": "python",
   "name": "python3"
  },
  "language_info": {
   "codemirror_mode": {
    "name": "ipython",
    "version": 3
   },
   "file_extension": ".py",
   "mimetype": "text/x-python",
   "name": "python",
   "nbconvert_exporter": "python",
   "pygments_lexer": "ipython3",
   "version": "3.7.0"
  }
 },
 "nbformat": 4,
 "nbformat_minor": 5
}
